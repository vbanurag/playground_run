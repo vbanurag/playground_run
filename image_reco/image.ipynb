{
 "cells": [
  {
   "cell_type": "code",
   "execution_count": 10,
   "id": "727f48db",
   "metadata": {},
   "outputs": [
    {
     "name": "stdout",
     "output_type": "stream",
     "text": [
      "Requirement already satisfied: opencv-python in /Users/anuragsharma/.pyenv/versions/python-play/lib/python3.11/site-packages (4.12.0.88)\n",
      "Requirement already satisfied: numpy in /Users/anuragsharma/.pyenv/versions/python-play/lib/python3.11/site-packages (2.2.6)\n",
      "Collecting pytesseract\n",
      "  Downloading pytesseract-0.3.13-py3-none-any.whl.metadata (11 kB)\n",
      "Requirement already satisfied: Pillow in /Users/anuragsharma/.pyenv/versions/python-play/lib/python3.11/site-packages (11.3.0)\n",
      "Requirement already satisfied: packaging>=21.3 in /Users/anuragsharma/.pyenv/versions/python-play/lib/python3.11/site-packages (from pytesseract) (25.0)\n",
      "Downloading pytesseract-0.3.13-py3-none-any.whl (14 kB)\n",
      "Installing collected packages: pytesseract\n",
      "Successfully installed pytesseract-0.3.13\n",
      "\n",
      "\u001b[1m[\u001b[0m\u001b[34;49mnotice\u001b[0m\u001b[1;39;49m]\u001b[0m\u001b[39;49m A new release of pip is available: \u001b[0m\u001b[31;49m24.0\u001b[0m\u001b[39;49m -> \u001b[0m\u001b[32;49m25.2\u001b[0m\n",
      "\u001b[1m[\u001b[0m\u001b[34;49mnotice\u001b[0m\u001b[1;39;49m]\u001b[0m\u001b[39;49m To update, run: \u001b[0m\u001b[32;49mpip install --upgrade pip\u001b[0m\n",
      "Note: you may need to restart the kernel to use updated packages.\n"
     ]
    }
   ],
   "source": [
    "pip install opencv-python numpy pytesseract Pillow"
   ]
  },
  {
   "cell_type": "code",
   "execution_count": 7,
   "id": "cda087c9",
   "metadata": {},
   "outputs": [
    {
     "data": {
      "text/plain": [
       "True"
      ]
     },
     "execution_count": 7,
     "metadata": {},
     "output_type": "execute_result"
    }
   ],
   "source": [
    "import cv2\n",
    "import numpy as np\n",
    "\n",
    "def correct_orientation(image_path):\n",
    "    # Load image\n",
    "    img = cv2.imread(image_path)\n",
    "    gray = cv2.cvtColor(img, cv2.COLOR_BGR2GRAY)\n",
    "    \n",
    "    # Edge detection + HoughLines to find text angle\n",
    "    edges = cv2.Canny(gray, 50, 150, apertureSize=3)\n",
    "    lines = cv2.HoughLinesP(edges, 1, np.pi / 180, 100, minLineLength=100, maxLineGap=10)\n",
    "    \n",
    "    angles = []\n",
    "    for line in lines:\n",
    "        x1, y1, x2, y2 = line[0]\n",
    "        angle = np.degrees(np.arctan2(y2 - y1, x2 - x1))\n",
    "        angles.append(angle)\n",
    "    \n",
    "    # Check if text is vertical (angles near 90° or -90°)\n",
    "    median_angle = np.median(angles)\n",
    "    if abs(median_angle) > 45:  # Vertical text detected\n",
    "        if median_angle > 0:\n",
    "            rotated_img = cv2.rotate(img, cv2.ROTATE_90_COUNTERCLOCKWISE)\n",
    "        else:\n",
    "            rotated_img = cv2.rotate(img, cv2.ROTATE_90_CLOCKWISE)\n",
    "    else:\n",
    "        rotated_img = img  # Already horizontal\n",
    "    \n",
    "    return rotated_img\n",
    "\n",
    "# Usage\n",
    "corrected_img = correct_orientation(\"test.jpg\")\n",
    "cv2.imwrite(\"horizontal_text.jpg\", corrected_img)"
   ]
  },
  {
   "cell_type": "code",
   "execution_count": 16,
   "id": "6030b206",
   "metadata": {},
   "outputs": [],
   "source": [
    "from PIL import Image\n",
    "import pytesseract\n",
    "\n",
    "def rotate_image(image_path, output_path=\"rotated.jpg\"):\n",
    "    try:\n",
    "        img = Image.open(image_path)\n",
    "        \n",
    "        # Check orientation (simplified for 90° or 270° rotations)\n",
    "        try:\n",
    "            osd = pytesseract.image_to_osd(img)\n",
    "            angle = int(osd.split(\"Rotate: \")[1].split(\"\\n\")[0])\n",
    "            if angle == 90:\n",
    "                img = img.rotate(-90, expand=True)\n",
    "            elif angle == 270:\n",
    "                img = img.rotate(90, expand=True)\n",
    "        except:\n",
    "            # Fallback: Manual rotation (if OSD fails)\n",
    "            img = img.rotate(90, expand=True)  # Adjust angle as needed\n",
    "        \n",
    "        img.save(output_path)\n",
    "        return output_path\n",
    "    except Exception as e:\n",
    "        print(f\"Rotation failed: {e}\")\n",
    "        return None\n",
    "\n",
    "# Usage\n",
    "rotated_path = rotate_image(\"test.jpg\")"
   ]
  }
 ],
 "metadata": {
  "kernelspec": {
   "display_name": "python-play",
   "language": "python",
   "name": "python3"
  },
  "language_info": {
   "codemirror_mode": {
    "name": "ipython",
    "version": 3
   },
   "file_extension": ".py",
   "mimetype": "text/x-python",
   "name": "python",
   "nbconvert_exporter": "python",
   "pygments_lexer": "ipython3",
   "version": "3.11.9"
  }
 },
 "nbformat": 4,
 "nbformat_minor": 5
}
